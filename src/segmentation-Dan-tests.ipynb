{
 "cells": [
  {
   "cell_type": "code",
   "execution_count": 52,
   "metadata": {},
   "outputs": [],
   "source": [
    "import skimage\n",
    "import matplotlib.pyplot as plt\n",
    "from skimage.filters import threshold_otsu\n",
    "import numpy as np\n",
    "import os\n",
    "import scipy.ndimage.morphology"
   ]
  },
  {
   "cell_type": "code",
   "execution_count": 78,
   "metadata": {},
   "outputs": [],
   "source": [
    "def get_segmentation(img):\n",
    "    orig_img = img.copy()\n",
    "    img = img.mean(2)\n",
    "    img = img > threshold_otsu(img)\n",
    "    img = img == False\n",
    "    scipy.ndimage.morphology.binary_fill_holes(img)\n",
    "    #labels = label(img)\n",
    "    #center = tuple(np.array(img.shape) // 2)\n",
    "    #center_patch = labels == labels[center[0], center[1]]\n",
    "    #scipy.ndimage.morphology.binary_fill_holes(center_patch)\n",
    "    removed = orig_img\n",
    "    removed[scipy.ndimage.morphology.binary_fill_holes(img) == False] = 0\n",
    "    return removed"
   ]
  },
  {
   "cell_type": "code",
   "execution_count": 79,
   "metadata": {},
   "outputs": [],
   "source": [
    "file_paths = os.listdir('../data/images/')\n",
    "imgs = [skimage.io.imread('../data/images/' + path) for path in file_paths]"
   ]
  },
  {
   "cell_type": "code",
   "execution_count": null,
   "metadata": {},
   "outputs": [],
   "source": [
    "\n"
   ]
  },
  {
   "cell_type": "code",
   "execution_count": null,
   "metadata": {},
   "outputs": [],
   "source": [
    "plt.figure(figsize=(10,200))\n",
    "i = 0\n",
    "nb_img = 70\n",
    "for img, path in zip(imgs[:nb_img], file_paths[:nb_img]):\n",
    "    plt.subplot(nb_img,2,2*i + 1)\n",
    "    plt.imshow(img)\n",
    "    removed = get_segmentation(img.copy())\n",
    "    plt.subplot(nb_img,2,2*i + 2)\n",
    "    plt.title(path)\n",
    "    plt.imshow(removed)\n",
    "    i+=1\n",
    "\n",
    "\n",
    "\n",
    "\n",
    "\n",
    "\n"
   ]
  },
  {
   "cell_type": "code",
   "execution_count": null,
   "metadata": {},
   "outputs": [],
   "source": []
  }
 ],
 "metadata": {
  "kernelspec": {
   "display_name": "Python 3",
   "language": "python",
   "name": "python3"
  },
  "language_info": {
   "codemirror_mode": {
    "name": "ipython",
    "version": 3
   },
   "file_extension": ".py",
   "mimetype": "text/x-python",
   "name": "python",
   "nbconvert_exporter": "python",
   "pygments_lexer": "ipython3",
   "version": "3.6.7"
  },
  "nbTranslate": {
   "displayLangs": [
    "*"
   ],
   "hotkey": "alt-t",
   "langInMainMenu": true,
   "sourceLang": "en",
   "targetLang": "fr",
   "useGoogleTranslate": true
  }
 },
 "nbformat": 4,
 "nbformat_minor": 2
}
