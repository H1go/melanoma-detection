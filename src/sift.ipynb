{
 "cells": [
  {
   "cell_type": "code",
   "execution_count": 166,
   "metadata": {},
   "outputs": [],
   "source": [
    "import skimage\n",
    "import matplotlib.pyplot as plt\n",
    "from skimage.filters import threshold_otsu\n",
    "import numpy as np\n",
    "import os\n",
    "import scipy.ndimage.morphology\n",
    "from skimage.measure import label, regionprops\n",
    "from skimage import feature\n",
    "from skimage import color\n",
    "from skimage import filters\n",
    "import cv2\n",
    "from sklearn.cluster import KMeans, MiniBatchKMeans\n",
    "import sklearn\n",
    "import csv"
   ]
  },
  {
   "cell_type": "markdown",
   "metadata": {},
   "source": [
    "# Load images"
   ]
  },
  {
   "cell_type": "code",
   "execution_count": 167,
   "metadata": {},
   "outputs": [],
   "source": [
    "PATH_TO_RESOURCES='../data/images/'\n",
    "file_paths = !ls $PATH_TO_RESOURCES*.jpg | sort\n",
    "imgs = [cv2.cvtColor(cv2.imread(path), cv2.COLOR_BGR2GRAY) for path in file_paths]"
   ]
  },
  {
   "cell_type": "markdown",
   "metadata": {},
   "source": [
    "# Descriptors"
   ]
  },
  {
   "cell_type": "code",
   "execution_count": 168,
   "metadata": {},
   "outputs": [],
   "source": [
    "desc = []\n",
    "sift = cv2.xfeatures2d.SIFT_create()\n",
    "\n",
    "for im in imgs:\n",
    "    kp, d = sift.detectAndCompute(im, None)\n",
    "    if d is not None:\n",
    "        desc.append(d.astype(np.float32))\n",
    "desc = np.asarray(desc)\n"
   ]
  },
  {
   "cell_type": "code",
   "execution_count": 169,
   "metadata": {},
   "outputs": [
    {
     "name": "stdout",
     "output_type": "stream",
     "text": [
      "(48664, 128)\n"
     ]
    }
   ],
   "source": [
    "train_desc = np.vstack(desc)\n",
    "print(train_desc.shape)"
   ]
  },
  {
   "cell_type": "code",
   "execution_count": 170,
   "metadata": {},
   "outputs": [],
   "source": [
    "train_mean = np.mean(train_desc, axis=1, keepdims=True)\n",
    "train_desc = train_desc - train_mean"
   ]
  },
  {
   "cell_type": "code",
   "execution_count": 171,
   "metadata": {},
   "outputs": [
    {
     "data": {
      "text/plain": [
       "((128, 64), dtype('float32'))"
      ]
     },
     "execution_count": 171,
     "metadata": {},
     "output_type": "execute_result"
    }
   ],
   "source": [
    "train_cov = np.dot(train_desc.T, train_desc)\n",
    "eigvals, eigvecs = np.linalg.eig(train_cov)\n",
    "perm = eigvals.argsort()                   # sort by increasing eigenvalue\n",
    "pca_transform = eigvecs[:, perm[64:128]]   # eigenvectors for the 64 last eigenvalues\n",
    "pca_transform.shape, pca_transform.dtype"
   ]
  },
  {
   "cell_type": "code",
   "execution_count": 172,
   "metadata": {},
   "outputs": [],
   "source": [
    "train_desc = np.dot(train_desc, pca_transform)"
   ]
  },
  {
   "cell_type": "code",
   "execution_count": 173,
   "metadata": {},
   "outputs": [
    {
     "data": {
      "text/plain": [
       "(48664, 64)"
      ]
     },
     "execution_count": 173,
     "metadata": {},
     "output_type": "execute_result"
    }
   ],
   "source": [
    "train_desc.shape"
   ]
  },
  {
   "cell_type": "markdown",
   "metadata": {},
   "source": [
    "# K-means"
   ]
  },
  {
   "cell_type": "code",
   "execution_count": 174,
   "metadata": {},
   "outputs": [
    {
     "name": "stderr",
     "output_type": "stream",
     "text": [
      "/usr/lib/python3.7/site-packages/sklearn/cluster/k_means_.py:1558: RuntimeWarning: init_size=300 should be larger than k=512. Setting it to 3*k\n",
      "  init_size=init_size)\n",
      "/usr/lib/python3.7/site-packages/sklearn/cluster/k_means_.py:1558: RuntimeWarning: init_size=300 should be larger than k=512. Setting it to 3*k\n",
      "  init_size=init_size)\n",
      "/usr/lib/python3.7/site-packages/sklearn/cluster/k_means_.py:1558: RuntimeWarning: init_size=300 should be larger than k=512. Setting it to 3*k\n",
      "  init_size=init_size)\n"
     ]
    }
   ],
   "source": [
    "kmeans = MiniBatchKMeans(n_clusters=512, random_state=0).fit(train_desc)"
   ]
  },
  {
   "cell_type": "code",
   "execution_count": 175,
   "metadata": {},
   "outputs": [
    {
     "data": {
      "text/plain": [
       "(512, 64)"
      ]
     },
     "execution_count": 175,
     "metadata": {},
     "output_type": "execute_result"
    }
   ],
   "source": [
    "kmeans.cluster_centers_.shape"
   ]
  },
  {
   "cell_type": "markdown",
   "metadata": {},
   "source": [
    "# Split training set"
   ]
  },
  {
   "cell_type": "code",
   "execution_count": 176,
   "metadata": {},
   "outputs": [
    {
     "data": {
      "text/plain": [
       "(224, 224)"
      ]
     },
     "execution_count": 176,
     "metadata": {},
     "output_type": "execute_result"
    }
   ],
   "source": [
    "all_images = []\n",
    "labels = []\n",
    "with open('../data/gt_img.csv', newline='') as csvfile:\n",
    "    for line in csvfile:\n",
    "        line = line.strip()\n",
    "        im_name, y = line.split(',')\n",
    "        all_images.append(im_name)\n",
    "        labels.append(int(y))\n",
    "len(all_images), len(labels)"
   ]
  },
  {
   "cell_type": "code",
   "execution_count": 177,
   "metadata": {},
   "outputs": [
    {
     "data": {
      "text/plain": [
       "(179, 45, 179, 45)"
      ]
     },
     "execution_count": 177,
     "metadata": {},
     "output_type": "execute_result"
    }
   ],
   "source": [
    "x_train, x_val, y_train, y_val = sklearn.model_selection.train_test_split(all_images,\n",
    "                                                                          labels,\n",
    "                                                                         test_size=0.2,\n",
    "                                                                         random_state=42)\n",
    "len(x_train), len(x_val), len(y_train), len(y_val)"
   ]
  },
  {
   "cell_type": "markdown",
   "metadata": {},
   "source": [
    "# Training"
   ]
  },
  {
   "cell_type": "code",
   "execution_count": 178,
   "metadata": {},
   "outputs": [],
   "source": [
    "l2_normalizer = sklearn.preprocessing.Normalizer(norm='l2', copy=True)\n",
    "l1_normalizer = sklearn.preprocessing.Normalizer(norm='l1', copy=True)"
   ]
  },
  {
   "cell_type": "code",
   "execution_count": 179,
   "metadata": {},
   "outputs": [],
   "source": [
    "def compute_descriptors(filelist, train_mean, pca_transform, kmeans):\n",
    "    image_descriptors = np.zeros((len(filelist), kmeans.n_clusters), dtype=np.float32)\n",
    "    sift = cv2.xfeatures2d.SIFT_create()\n",
    "    for ii, file in enumerate(filelist):\n",
    "        print(file)\n",
    "        print(\"Indexing %s\" % (file,))\n",
    "        im = cv2.cvtColor(cv2.imread(\"../data/images/\" + file + \".jpg\"), cv2.COLOR_BGR2GRAY)\n",
    "        # read the descriptors\n",
    "        kp, desc = sift.detectAndCompute(im, None)\n",
    "        if desc is None:\n",
    "            # let the descriptor be 0 for all values\n",
    "            # note that this is bad and the element should be dropped from the index\n",
    "            print(\"WARNING: zero descriptor for %s\" % (file,))\n",
    "            continue\n",
    "        \n",
    "        # convert to float\n",
    "        desc = desc.astype(np.float32)\n",
    "        \n",
    "        # center and apply PCA transform\n",
    "        desc = desc - np.mean(desc, axis=1, keepdims=True)\n",
    "        desc = np.dot(desc, pca_transform)\n",
    "        \n",
    "        # get cluster ids\n",
    "        clabels = kmeans.predict(desc)\n",
    "        # compute histogram\n",
    "        descr_hist = np.histogram(clabels, bins=kmeans.n_clusters)[0]\n",
    "        \n",
    "        descr_hist = np.reshape(descr_hist, (1, -1))\n",
    "        # l1 norm\n",
    "        descr_hist = l1_normalizer.transform(descr_hist)\n",
    "        \n",
    "        # take the sqrt (Hellinger kernel)\n",
    "        descr_hist = np.sqrt(descr_hist)\n",
    "        \n",
    "        # l2 norm\n",
    "        descr_hist = l2_normalizer.transform(descr_hist)\n",
    "        \n",
    "        # update the index\n",
    "        image_descriptors[ii] = descr_hist\n",
    "    print(\"Indexing complete.\")\n",
    "    return image_descriptors"
   ]
  },
  {
   "cell_type": "code",
   "execution_count": 180,
   "metadata": {},
   "outputs": [
    {
     "name": "stdout",
     "output_type": "stream",
     "text": [
      "img_0073149\n",
      "Indexing img_0073149\n",
      "img_0000068\n",
      "Indexing img_0000068\n",
      "img_0000077\n",
      "Indexing img_0000077\n",
      "img_0073104\n",
      "Indexing img_0073104\n",
      "img_0073140\n",
      "Indexing img_0073140\n",
      "img_0000093\n",
      "Indexing img_0000093\n",
      "img_0073209\n",
      "Indexing img_0073209\n",
      "img_0073102\n",
      "Indexing img_0073102\n",
      "img_0073128\n",
      "Indexing img_0073128\n",
      "img_0000040\n",
      "Indexing img_0000040\n",
      "img_0000025\n",
      "Indexing img_0000025\n",
      "img_0073110\n",
      "Indexing img_0073110\n",
      "img_0073235\n",
      "Indexing img_0073235\n",
      "img_0073251\n",
      "Indexing img_0073251\n",
      "img_0000011\n",
      "Indexing img_0000011\n",
      "img_0000030\n",
      "Indexing img_0000030\n",
      "img_0000020\n",
      "Indexing img_0000020\n",
      "img_0073232\n",
      "Indexing img_0073232\n",
      "img_0000300\n",
      "Indexing img_0000300\n",
      "img_0073135\n",
      "Indexing img_0073135\n",
      "img_0000294\n",
      "Indexing img_0000294\n",
      "img_0000006\n",
      "Indexing img_0000006\n",
      "img_0000058\n",
      "Indexing img_0000058\n",
      "img_0073125\n",
      "Indexing img_0073125\n",
      "img_0073161\n",
      "Indexing img_0073161\n",
      "img_0073123\n",
      "Indexing img_0073123\n",
      "img_0000067\n",
      "Indexing img_0000067\n",
      "img_0073138\n",
      "Indexing img_0073138\n",
      "img_0073246\n",
      "Indexing img_0073246\n",
      "img_0073198\n",
      "Indexing img_0073198\n",
      "img_0000032\n",
      "Indexing img_0000032\n",
      "img_0000013\n",
      "Indexing img_0000013\n",
      "img_0000037\n",
      "Indexing img_0000037\n",
      "img_0000029\n",
      "Indexing img_0000029\n",
      "img_0000044\n",
      "Indexing img_0000044\n",
      "img_0073228\n",
      "Indexing img_0073228\n",
      "img_0073172\n",
      "Indexing img_0073172\n",
      "img_0073194\n",
      "Indexing img_0073194\n",
      "img_0000053\n",
      "Indexing img_0000053\n",
      "img_0073224\n",
      "Indexing img_0073224\n",
      "img_0000313\n",
      "Indexing img_0000313\n",
      "img_0000080\n",
      "Indexing img_0000080\n",
      "img_0000043\n",
      "Indexing img_0000043\n",
      "img_0073164\n",
      "Indexing img_0073164\n",
      "img_0000082\n",
      "Indexing img_0000082\n",
      "img_0073155\n",
      "Indexing img_0073155\n",
      "img_0000027\n",
      "Indexing img_0000027\n",
      "img_0073184\n",
      "Indexing img_0073184\n",
      "img_0073215\n",
      "Indexing img_0073215\n",
      "img_0073169\n",
      "Indexing img_0073169\n",
      "img_0000000\n",
      "Indexing img_0000000\n",
      "img_0000002\n",
      "Indexing img_0000002\n",
      "img_0000081\n",
      "Indexing img_0000081\n",
      "img_0000048\n",
      "Indexing img_0000048\n",
      "img_0000307\n",
      "Indexing img_0000307\n",
      "img_0073159\n",
      "Indexing img_0073159\n",
      "img_0073147\n",
      "Indexing img_0073147\n",
      "img_0000097\n",
      "Indexing img_0000097\n",
      "img_0000092\n",
      "Indexing img_0000092\n",
      "img_0073201\n",
      "Indexing img_0073201\n",
      "img_0000288\n",
      "Indexing img_0000288\n",
      "img_0073108\n",
      "Indexing img_0073108\n",
      "img_0000038\n",
      "Indexing img_0000038\n",
      "img_0000282\n",
      "Indexing img_0000282\n",
      "img_0000063\n",
      "Indexing img_0000063\n",
      "img_0000023\n",
      "Indexing img_0000023\n",
      "img_0073182\n",
      "Indexing img_0073182\n",
      "img_0073146\n",
      "Indexing img_0073146\n",
      "img_0000035\n",
      "Indexing img_0000035\n",
      "img_0000012\n",
      "Indexing img_0000012\n",
      "img_0000306\n",
      "Indexing img_0000306\n",
      "img_0073225\n",
      "Indexing img_0073225\n",
      "img_0000007\n",
      "Indexing img_0000007\n",
      "img_0000028\n",
      "Indexing img_0000028\n",
      "img_0073168\n",
      "Indexing img_0073168\n",
      "img_0000301\n",
      "Indexing img_0000301\n",
      "img_0073195\n",
      "Indexing img_0073195\n",
      "img_0000004\n",
      "Indexing img_0000004\n",
      "img_0073143\n",
      "Indexing img_0073143\n",
      "img_0000034\n",
      "Indexing img_0000034\n",
      "img_0073148\n",
      "Indexing img_0073148\n",
      "img_0073205\n",
      "Indexing img_0073205\n",
      "img_0073207\n",
      "Indexing img_0073207\n",
      "img_0073254\n",
      "Indexing img_0073254\n",
      "img_0000064\n",
      "Indexing img_0000064\n",
      "img_0073150\n",
      "Indexing img_0073150\n",
      "img_0000283\n",
      "Indexing img_0000283\n",
      "img_0000303\n",
      "Indexing img_0000303\n",
      "img_0000073\n",
      "Indexing img_0000073\n",
      "img_0073221\n",
      "Indexing img_0073221\n",
      "img_0000066\n",
      "Indexing img_0000066\n",
      "img_0000046\n",
      "Indexing img_0000046\n",
      "img_0073189\n",
      "Indexing img_0073189\n",
      "WARNING: zero descriptor for img_0073189\n",
      "img_0000042\n",
      "Indexing img_0000042\n",
      "img_0073144\n",
      "Indexing img_0073144\n",
      "img_0000024\n",
      "Indexing img_0000024\n",
      "img_0073214\n",
      "Indexing img_0073214\n",
      "img_0073208\n",
      "Indexing img_0073208\n",
      "img_0000087\n",
      "Indexing img_0000087\n",
      "img_0000041\n",
      "Indexing img_0000041\n",
      "img_0073241\n",
      "Indexing img_0073241\n",
      "img_0000049\n",
      "Indexing img_0000049\n",
      "img_0073101\n",
      "Indexing img_0073101\n",
      "img_0073219\n",
      "Indexing img_0073219\n",
      "img_0000045\n",
      "Indexing img_0000045\n",
      "img_0073181\n",
      "Indexing img_0073181\n",
      "img_0073196\n",
      "Indexing img_0073196\n",
      "img_0000003\n",
      "Indexing img_0000003\n",
      "img_0073116\n",
      "Indexing img_0073116\n",
      "img_0000055\n",
      "Indexing img_0000055\n",
      "img_0073156\n",
      "Indexing img_0073156\n",
      "img_0000297\n",
      "Indexing img_0000297\n",
      "img_0073222\n",
      "Indexing img_0073222\n",
      "img_0000292\n",
      "Indexing img_0000292\n",
      "img_0000051\n",
      "Indexing img_0000051\n",
      "img_0000086\n",
      "Indexing img_0000086\n",
      "img_0000036\n",
      "Indexing img_0000036\n",
      "img_0000008\n",
      "Indexing img_0000008\n",
      "img_0073126\n",
      "Indexing img_0073126\n",
      "img_0000098\n",
      "Indexing img_0000098\n",
      "img_0000089\n",
      "Indexing img_0000089\n",
      "img_0000279\n",
      "Indexing img_0000279\n",
      "img_0000287\n",
      "Indexing img_0000287\n",
      "img_0000096\n",
      "Indexing img_0000096\n",
      "img_0000009\n",
      "Indexing img_0000009\n",
      "img_0000014\n",
      "Indexing img_0000014\n",
      "img_0000061\n",
      "Indexing img_0000061\n",
      "img_0000278\n",
      "Indexing img_0000278\n",
      "img_0073154\n",
      "Indexing img_0073154\n",
      "img_0000018\n",
      "Indexing img_0000018\n",
      "img_0073212\n",
      "Indexing img_0073212\n",
      "img_0000075\n",
      "Indexing img_0000075\n",
      "img_0000276\n",
      "Indexing img_0000276\n",
      "img_0073157\n",
      "Indexing img_0073157\n",
      "img_0073238\n",
      "Indexing img_0073238\n",
      "img_0000289\n",
      "Indexing img_0000289\n",
      "img_0000065\n",
      "Indexing img_0000065\n",
      "img_0000056\n",
      "Indexing img_0000056\n",
      "img_0073122\n",
      "Indexing img_0073122\n",
      "img_0000052\n",
      "Indexing img_0000052\n",
      "img_0073223\n",
      "Indexing img_0073223\n",
      "img_0000310\n",
      "Indexing img_0000310\n",
      "img_0000277\n",
      "Indexing img_0000277\n",
      "img_0073218\n",
      "Indexing img_0073218\n",
      "img_0000060\n",
      "Indexing img_0000060\n",
      "img_0000050\n",
      "Indexing img_0000050\n",
      "img_0000095\n",
      "Indexing img_0000095\n",
      "img_0000022\n",
      "Indexing img_0000022\n",
      "img_0000059\n",
      "Indexing img_0000059\n",
      "img_0073203\n",
      "Indexing img_0073203\n",
      "img_0000302\n",
      "Indexing img_0000302\n",
      "img_0073244\n",
      "Indexing img_0073244\n",
      "img_0073248\n",
      "Indexing img_0073248\n",
      "img_0073151\n",
      "Indexing img_0073151\n",
      "img_0000039\n",
      "Indexing img_0000039\n",
      "img_0073200\n",
      "Indexing img_0073200\n",
      "img_0000299\n",
      "Indexing img_0000299\n",
      "img_0000001\n",
      "Indexing img_0000001\n",
      "img_0000054\n",
      "Indexing img_0000054\n",
      "img_0073187\n",
      "Indexing img_0073187\n",
      "img_0073153\n",
      "Indexing img_0073153\n",
      "img_0073193\n",
      "Indexing img_0073193\n",
      "img_0073113\n",
      "Indexing img_0073113\n",
      "img_0073109\n",
      "Indexing img_0073109\n",
      "img_0073136\n",
      "Indexing img_0073136\n",
      "img_0000094\n",
      "Indexing img_0000094\n",
      "img_0000285\n",
      "Indexing img_0000285\n",
      "img_0000078\n",
      "Indexing img_0000078\n",
      "img_0000295\n",
      "Indexing img_0000295\n",
      "img_0073142\n",
      "Indexing img_0073142\n",
      "img_0000314\n",
      "Indexing img_0000314\n",
      "img_0000021\n",
      "Indexing img_0000021\n",
      "img_0073245\n",
      "Indexing img_0073245\n",
      "img_0000074\n",
      "Indexing img_0000074\n",
      "img_0073119\n",
      "Indexing img_0073119\n",
      "img_0000015\n",
      "Indexing img_0000015\n",
      "img_0000099\n",
      "Indexing img_0000099\n",
      "img_0073229\n",
      "Indexing img_0073229\n",
      "img_0073112\n",
      "Indexing img_0073112\n",
      "Indexing complete.\n",
      "img_0000010\n",
      "Indexing img_0000010\n",
      "img_0000091\n",
      "Indexing img_0000091\n",
      "img_0073137\n",
      "Indexing img_0073137\n",
      "img_0073175\n",
      "Indexing img_0073175\n",
      "img_0000311\n",
      "Indexing img_0000311\n",
      "img_0073130\n",
      "Indexing img_0073130\n",
      "img_0000071\n",
      "Indexing img_0000071\n",
      "img_0073115\n",
      "Indexing img_0073115\n",
      "img_0073227\n",
      "Indexing img_0073227\n",
      "img_0073240\n",
      "Indexing img_0073240\n",
      "img_0000057\n",
      "Indexing img_0000057\n",
      "img_0000016\n",
      "Indexing img_0000016\n",
      "img_0000281\n",
      "Indexing img_0000281\n",
      "img_0000026\n",
      "Indexing img_0000026\n",
      "img_0000031\n",
      "Indexing img_0000031\n",
      "img_0000047\n",
      "Indexing img_0000047\n",
      "img_0073220\n",
      "Indexing img_0073220\n",
      "img_0000088\n",
      "Indexing img_0000088\n",
      "img_0000293\n",
      "Indexing img_0000293\n",
      "img_0073105\n",
      "Indexing img_0073105\n",
      "img_0000100\n",
      "Indexing img_0000100\n",
      "img_0000019\n",
      "Indexing img_0000019\n",
      "img_0000085\n",
      "Indexing img_0000085\n",
      "img_0073171\n",
      "Indexing img_0073171\n",
      "img_0073183\n",
      "Indexing img_0073183\n",
      "img_0073173\n",
      "Indexing img_0073173\n",
      "img_0073249\n",
      "Indexing img_0073249\n",
      "img_0000069\n",
      "Indexing img_0000069\n",
      "img_0000062\n",
      "Indexing img_0000062\n",
      "img_0073111\n",
      "Indexing img_0073111\n",
      "img_0000298\n",
      "Indexing img_0000298\n",
      "img_0000072\n",
      "Indexing img_0000072\n",
      "img_0000017\n",
      "Indexing img_0000017\n",
      "img_0073247\n",
      "Indexing img_0073247\n",
      "img_0073199\n",
      "Indexing img_0073199\n",
      "WARNING: zero descriptor for img_0073199\n",
      "img_0073133\n",
      "Indexing img_0073133\n",
      "img_0073202\n",
      "Indexing img_0073202\n",
      "img_0073127\n",
      "Indexing img_0073127\n",
      "img_0000079\n",
      "Indexing img_0000079\n",
      "img_0073231\n",
      "Indexing img_0073231\n",
      "img_0073170\n",
      "Indexing img_0073170\n",
      "img_0000290\n",
      "Indexing img_0000290\n",
      "img_0073237\n",
      "Indexing img_0073237\n",
      "img_0073141\n",
      "Indexing img_0073141\n",
      "img_0073210\n",
      "Indexing img_0073210\n",
      "Indexing complete.\n"
     ]
    }
   ],
   "source": [
    "x_train_desc, x_val_desc = [compute_descriptors(filelist, train_mean, pca_transform, kmeans) \n",
    "    for filelist in (x_train, x_val)]"
   ]
  },
  {
   "cell_type": "code",
   "execution_count": 190,
   "metadata": {},
   "outputs": [],
   "source": [
    "from sklearn import svm\n",
    "from sklearn.ensemble import RandomForestClassifier\n",
    "\n",
    "clf = RandomForestClassifier(n_estimators=10000,\n",
    "                              random_state=0)\n",
    "#clf = svm.SVC()"
   ]
  },
  {
   "cell_type": "code",
   "execution_count": 191,
   "metadata": {},
   "outputs": [
    {
     "data": {
      "text/plain": [
       "RandomForestClassifier(bootstrap=True, class_weight=None, criterion='gini',\n",
       "                       max_depth=None, max_features='auto', max_leaf_nodes=None,\n",
       "                       min_impurity_decrease=0.0, min_impurity_split=None,\n",
       "                       min_samples_leaf=1, min_samples_split=2,\n",
       "                       min_weight_fraction_leaf=0.0, n_estimators=10000,\n",
       "                       n_jobs=None, oob_score=False, random_state=0, verbose=0,\n",
       "                       warm_start=False)"
      ]
     },
     "execution_count": 191,
     "metadata": {},
     "output_type": "execute_result"
    }
   ],
   "source": [
    "clf.fit(x_train_desc, y_train)"
   ]
  },
  {
   "cell_type": "code",
   "execution_count": 192,
   "metadata": {},
   "outputs": [
    {
     "data": {
      "text/plain": [
       "0.8444444444444444"
      ]
     },
     "execution_count": 192,
     "metadata": {},
     "output_type": "execute_result"
    }
   ],
   "source": [
    "clf.score(x_val_desc, y_val)"
   ]
  },
  {
   "cell_type": "code",
   "execution_count": 193,
   "metadata": {},
   "outputs": [],
   "source": [
    "y_pred = clf.predict(x_val_desc)"
   ]
  },
  {
   "cell_type": "code",
   "execution_count": 194,
   "metadata": {},
   "outputs": [
    {
     "name": "stdout",
     "output_type": "stream",
     "text": [
      "              precision    recall  f1-score   support\n",
      "\n",
      "           0       0.81      1.00      0.90        30\n",
      "           1       1.00      0.53      0.70        15\n",
      "\n",
      "    accuracy                           0.84        45\n",
      "   macro avg       0.91      0.77      0.80        45\n",
      "weighted avg       0.87      0.84      0.83        45\n",
      "\n"
     ]
    }
   ],
   "source": [
    "from sklearn.metrics import classification_report\n",
    "\n",
    "print(classification_report(y_val, y_pred))"
   ]
  },
  {
   "cell_type": "code",
   "execution_count": null,
   "metadata": {},
   "outputs": [],
   "source": []
  }
 ],
 "metadata": {
  "kernelspec": {
   "display_name": "Python 3",
   "language": "python",
   "name": "python3"
  },
  "language_info": {
   "codemirror_mode": {
    "name": "ipython",
    "version": 3
   },
   "file_extension": ".py",
   "mimetype": "text/x-python",
   "name": "python",
   "nbconvert_exporter": "python",
   "pygments_lexer": "ipython3",
   "version": "3.7.3"
  }
 },
 "nbformat": 4,
 "nbformat_minor": 2
}
