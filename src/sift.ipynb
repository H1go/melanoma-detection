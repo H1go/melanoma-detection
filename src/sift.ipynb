{
 "cells": [
  {
   "cell_type": "code",
   "execution_count": 34,
   "metadata": {},
   "outputs": [],
   "source": [
    "import skimage\n",
    "import matplotlib.pyplot as plt\n",
    "from skimage.filters import threshold_otsu\n",
    "import numpy as np\n",
    "import os\n",
    "import scipy.ndimage.morphology\n",
    "from skimage.measure import label, regionprops\n",
    "from skimage import feature\n",
    "from skimage import color\n",
    "from skimage import filters\n",
    "import cv2\n",
    "from sklearn.cluster import KMeans, MiniBatchKMeans\n",
    "import sklearn\n",
    "import csv"
   ]
  },
  {
   "cell_type": "markdown",
   "metadata": {},
   "source": [
    "# Load images"
   ]
  },
  {
   "cell_type": "code",
   "execution_count": 33,
   "metadata": {},
   "outputs": [],
   "source": [
    "PATH_TO_RESOURCES='../data/images/'\n",
    "file_paths = !ls $PATH_TO_RESOURCES*.jpg | sort\n",
    "imgs = [cv2.cvtColor(cv2.imread(path), cv2.COLOR_BGR2GRAY) for path in file_paths]"
   ]
  },
  {
   "cell_type": "markdown",
   "metadata": {},
   "source": [
    "# Descriptors"
   ]
  },
  {
   "cell_type": "code",
   "execution_count": 18,
   "metadata": {},
   "outputs": [],
   "source": [
    "desc = []\n",
    "sift = cv2.xfeatures2d.SIFT_create()\n",
    "\n",
    "for im in imgs:\n",
    "    kp, d = sift.detectAndCompute(im, None)\n",
    "    if d is not None:\n",
    "        desc.append(d.astype(np.float32))\n",
    "desc = np.asarray(desc)\n"
   ]
  },
  {
   "cell_type": "code",
   "execution_count": 19,
   "metadata": {},
   "outputs": [
    {
     "name": "stdout",
     "output_type": "stream",
     "text": [
      "(222,)\n"
     ]
    }
   ],
   "source": [
    "train_desc = np.vstack(desc)\n",
    "print(train_desc.shape)"
   ]
  },
  {
   "cell_type": "code",
   "execution_count": 21,
   "metadata": {},
   "outputs": [],
   "source": [
    "train_mean = np.mean(train_desc, axis=1, keepdims=True)\n",
    "train_desc = train_desc - train_mean"
   ]
  },
  {
   "cell_type": "code",
   "execution_count": 22,
   "metadata": {},
   "outputs": [
    {
     "data": {
      "text/plain": [
       "((128, 64), dtype('float32'))"
      ]
     },
     "execution_count": 22,
     "metadata": {},
     "output_type": "execute_result"
    }
   ],
   "source": [
    "train_cov = np.dot(train_desc.T, train_desc)\n",
    "eigvals, eigvecs = np.linalg.eig(train_cov)\n",
    "perm = eigvals.argsort()                   # sort by increasing eigenvalue\n",
    "pca_transform = eigvecs[:, perm[64:128]]   # eigenvectors for the 64 last eigenvalues\n",
    "pca_transform.shape, pca_transform.dtype"
   ]
  },
  {
   "cell_type": "code",
   "execution_count": 23,
   "metadata": {},
   "outputs": [],
   "source": [
    "train_desc = np.dot(train_desc, pca_transform)"
   ]
  },
  {
   "cell_type": "code",
   "execution_count": 24,
   "metadata": {},
   "outputs": [
    {
     "data": {
      "text/plain": [
       "(48664, 64)"
      ]
     },
     "execution_count": 24,
     "metadata": {},
     "output_type": "execute_result"
    }
   ],
   "source": [
    "train_desc.shape"
   ]
  },
  {
   "cell_type": "markdown",
   "metadata": {},
   "source": [
    "# K-means"
   ]
  },
  {
   "cell_type": "code",
   "execution_count": 26,
   "metadata": {},
   "outputs": [
    {
     "name": "stderr",
     "output_type": "stream",
     "text": [
      "/usr/lib/python3.7/site-packages/sklearn/cluster/k_means_.py:1558: RuntimeWarning: init_size=300 should be larger than k=512. Setting it to 3*k\n",
      "  init_size=init_size)\n",
      "/usr/lib/python3.7/site-packages/sklearn/cluster/k_means_.py:1558: RuntimeWarning: init_size=300 should be larger than k=512. Setting it to 3*k\n",
      "  init_size=init_size)\n",
      "/usr/lib/python3.7/site-packages/sklearn/cluster/k_means_.py:1558: RuntimeWarning: init_size=300 should be larger than k=512. Setting it to 3*k\n",
      "  init_size=init_size)\n"
     ]
    }
   ],
   "source": [
    "kmeans = MiniBatchKMeans(n_clusters=512, random_state=0).fit(train_desc)"
   ]
  },
  {
   "cell_type": "code",
   "execution_count": null,
   "metadata": {},
   "outputs": [],
   "source": [
    "kmeans.cluster_centers_.shape"
   ]
  },
  {
   "cell_type": "markdown",
   "metadata": {},
   "source": [
    "# Split training set"
   ]
  },
  {
   "cell_type": "code",
   "execution_count": 81,
   "metadata": {},
   "outputs": [
    {
     "data": {
      "text/plain": [
       "(224, 224)"
      ]
     },
     "execution_count": 81,
     "metadata": {},
     "output_type": "execute_result"
    }
   ],
   "source": [
    "all_images = []\n",
    "labels = []\n",
    "with open('../data/gt_img.csv', newline='') as csvfile:\n",
    "    for line in csvfile:\n",
    "        line = line.strip()\n",
    "        im_name, y = line.split(',')\n",
    "        all_images.append(im_name)\n",
    "        labels.append(int(y))\n",
    "len(all_images), len(labels)"
   ]
  },
  {
   "cell_type": "code",
   "execution_count": 83,
   "metadata": {},
   "outputs": [
    {
     "data": {
      "text/plain": [
       "(179, 45, 179, 45)"
      ]
     },
     "execution_count": 83,
     "metadata": {},
     "output_type": "execute_result"
    }
   ],
   "source": [
    "x_train, x_val, y_train, y_val = sklearn.model_selection.train_test_split(all_images,\n",
    "                                                                          labels,\n",
    "                                                                         test_size=0.2,\n",
    "                                                                         random_state=42)\n",
    "len(x_train), len(x_val), len(y_train), len(y_val)"
   ]
  },
  {
   "cell_type": "markdown",
   "metadata": {},
   "source": [
    "# Training"
   ]
  },
  {
   "cell_type": "code",
   "execution_count": 86,
   "metadata": {},
   "outputs": [],
   "source": [
    "l2_normalizer = sklearn.preprocessing.Normalizer(norm='l2', copy=True)\n",
    "l1_normalizer = sklearn.preprocessing.Normalizer(norm='l1', copy=True)"
   ]
  },
  {
   "cell_type": "code",
   "execution_count": 89,
   "metadata": {},
   "outputs": [],
   "source": [
    "def compute_descriptors(filelist, train_mean, pca_transform, kmeans):\n",
    "    image_descriptors = []\n",
    "    sift = cv2.xfeatures2d.SIFT_create()\n",
    "    for ii, file in enumerate(filelist):\n",
    "        print(\"Indexing %s\" % (file,))\n",
    "        im = cv2.cvtColor(cv2.imread(\"../data/images/\" + file), cv2.COLOR_BGR2GRAY)\n",
    "        # read the descriptors\n",
    "        kp, desc = sift.detectAndCompute(im, None)\n",
    "        if desc is None:\n",
    "            # let the descriptor be 0 for all values\n",
    "            # note that this is bad and the element should be dropped from the index\n",
    "            print(\"WARNING: zero descriptor for %s\" % (shortname,))\n",
    "            continue\n",
    "        \n",
    "        # convert to float\n",
    "        desc = desc.astype(np.float32)\n",
    "        \n",
    "        # center and apply PCA transform\n",
    "        desc = desc - np.mean(desc, axis=1, keepdims=True)\n",
    "        desc = np.dot(desc, pca_transform)\n",
    "        \n",
    "        # get cluster ids\n",
    "        clabels = kmeans.predict(desc)\n",
    "        # compute histogram\n",
    "        descr_hist = np.histogram(clabels, bins=kmeans.n_clusters)[0]\n",
    "        \n",
    "        descr_hist = np.reshape(descr_hist, (1, -1))\n",
    "        # l1 norm\n",
    "        descr_hist = l1_normalizer.transform(descr_hist)\n",
    "        \n",
    "        # take the sqrt (Hellinger kernel)\n",
    "        descr_hist = np.sqrt(descr_hist)\n",
    "        \n",
    "        # l2 norm\n",
    "        descr_hist = l2_normalizer.transform(descr_hist)\n",
    "        \n",
    "        # update the index\n",
    "        image_descriptors.append(descr_hist)\n",
    "    print(\"Indexing complete.\")\n",
    "    return image_descriptors"
   ]
  },
  {
   "cell_type": "code",
   "execution_count": 90,
   "metadata": {},
   "outputs": [
    {
     "name": "stdout",
     "output_type": "stream",
     "text": [
      "Indexing img_0073149\n"
     ]
    },
    {
     "ename": "error",
     "evalue": "OpenCV(3.4.2) /io/opencv/modules/imgproc/src/color.hpp:253: error: (-215:Assertion failed) VScn::contains(scn) && VDcn::contains(dcn) && VDepth::contains(depth) in function 'CvtHelper'\n",
     "output_type": "error",
     "traceback": [
      "\u001b[0;31m---------------------------------------------------------------------------\u001b[0m",
      "\u001b[0;31merror\u001b[0m                                     Traceback (most recent call last)",
      "\u001b[0;32m<ipython-input-90-cdfbb22c97ba>\u001b[0m in \u001b[0;36m<module>\u001b[0;34m\u001b[0m\n\u001b[1;32m      1\u001b[0m x_train_desc, y_train_desc = [compute_descriptors(filelist, train_mean, pca_transform, kmeans) \n\u001b[0;32m----> 2\u001b[0;31m     for filelist in (x_train, y_train)]\n\u001b[0m",
      "\u001b[0;32m<ipython-input-90-cdfbb22c97ba>\u001b[0m in \u001b[0;36m<listcomp>\u001b[0;34m(.0)\u001b[0m\n\u001b[1;32m      1\u001b[0m x_train_desc, y_train_desc = [compute_descriptors(filelist, train_mean, pca_transform, kmeans) \n\u001b[0;32m----> 2\u001b[0;31m     for filelist in (x_train, y_train)]\n\u001b[0m",
      "\u001b[0;32m<ipython-input-89-6bf891f79a98>\u001b[0m in \u001b[0;36mcompute_descriptors\u001b[0;34m(filelist, train_mean, pca_transform, kmeans)\u001b[0m\n\u001b[1;32m      4\u001b[0m     \u001b[0;32mfor\u001b[0m \u001b[0mii\u001b[0m\u001b[0;34m,\u001b[0m \u001b[0mfile\u001b[0m \u001b[0;32min\u001b[0m \u001b[0menumerate\u001b[0m\u001b[0;34m(\u001b[0m\u001b[0mfilelist\u001b[0m\u001b[0;34m)\u001b[0m\u001b[0;34m:\u001b[0m\u001b[0;34m\u001b[0m\u001b[0;34m\u001b[0m\u001b[0m\n\u001b[1;32m      5\u001b[0m         \u001b[0mprint\u001b[0m\u001b[0;34m(\u001b[0m\u001b[0;34m\"Indexing %s\"\u001b[0m \u001b[0;34m%\u001b[0m \u001b[0;34m(\u001b[0m\u001b[0mfile\u001b[0m\u001b[0;34m,\u001b[0m\u001b[0;34m)\u001b[0m\u001b[0;34m)\u001b[0m\u001b[0;34m\u001b[0m\u001b[0;34m\u001b[0m\u001b[0m\n\u001b[0;32m----> 6\u001b[0;31m         \u001b[0mim\u001b[0m \u001b[0;34m=\u001b[0m \u001b[0mcv2\u001b[0m\u001b[0;34m.\u001b[0m\u001b[0mcvtColor\u001b[0m\u001b[0;34m(\u001b[0m\u001b[0mcv2\u001b[0m\u001b[0;34m.\u001b[0m\u001b[0mimread\u001b[0m\u001b[0;34m(\u001b[0m\u001b[0;34m\"../data/images/\"\u001b[0m \u001b[0;34m+\u001b[0m \u001b[0mfile\u001b[0m\u001b[0;34m)\u001b[0m\u001b[0;34m,\u001b[0m \u001b[0mcv2\u001b[0m\u001b[0;34m.\u001b[0m\u001b[0mCOLOR_BGR2GRAY\u001b[0m\u001b[0;34m)\u001b[0m\u001b[0;34m\u001b[0m\u001b[0;34m\u001b[0m\u001b[0m\n\u001b[0m\u001b[1;32m      7\u001b[0m         \u001b[0;31m# read the descriptors\u001b[0m\u001b[0;34m\u001b[0m\u001b[0;34m\u001b[0m\u001b[0;34m\u001b[0m\u001b[0m\n\u001b[1;32m      8\u001b[0m         \u001b[0mkp\u001b[0m\u001b[0;34m,\u001b[0m \u001b[0mdesc\u001b[0m \u001b[0;34m=\u001b[0m \u001b[0msift\u001b[0m\u001b[0;34m.\u001b[0m\u001b[0mdetectAndCompute\u001b[0m\u001b[0;34m(\u001b[0m\u001b[0mim\u001b[0m\u001b[0;34m,\u001b[0m \u001b[0;32mNone\u001b[0m\u001b[0;34m)\u001b[0m\u001b[0;34m\u001b[0m\u001b[0;34m\u001b[0m\u001b[0m\n",
      "\u001b[0;31merror\u001b[0m: OpenCV(3.4.2) /io/opencv/modules/imgproc/src/color.hpp:253: error: (-215:Assertion failed) VScn::contains(scn) && VDcn::contains(dcn) && VDepth::contains(depth) in function 'CvtHelper'\n"
     ]
    }
   ],
   "source": [
    "x_train_desc, y_train_desc = [compute_descriptors(filelist, train_mean, pca_transform, kmeans) \n",
    "    for filelist in (x_train, y_train)]"
   ]
  },
  {
   "cell_type": "code",
   "execution_count": null,
   "metadata": {},
   "outputs": [],
   "source": []
  }
 ],
 "metadata": {
  "kernelspec": {
   "display_name": "Python 3",
   "language": "python",
   "name": "python3"
  },
  "language_info": {
   "codemirror_mode": {
    "name": "ipython",
    "version": 3
   },
   "file_extension": ".py",
   "mimetype": "text/x-python",
   "name": "python",
   "nbconvert_exporter": "python",
   "pygments_lexer": "ipython3",
   "version": "3.7.3"
  }
 },
 "nbformat": 4,
 "nbformat_minor": 2
}
