{
 "cells": [
  {
   "cell_type": "code",
   "execution_count": 4,
   "metadata": {},
   "outputs": [],
   "source": [
    "import skimage\n",
    "import matplotlib.pyplot as plt\n",
    "from skimage.filters import threshold_otsu\n",
    "import numpy as np\n",
    "import os\n",
    "import scipy.ndimage.morphology\n",
    "from skimage.measure import label, regionprops\n",
    "from skimage import feature\n",
    "from skimage import color\n",
    "from skimage import filters\n",
    "import cv2"
   ]
  },
  {
   "cell_type": "markdown",
   "metadata": {},
   "source": [
    "# Load images"
   ]
  },
  {
   "cell_type": "code",
   "execution_count": 5,
   "metadata": {},
   "outputs": [],
   "source": [
    "file_paths = os.listdir('../data/images/')\n",
    "imgs = [cv2.cvtColor(cv2.imread('../data/images/' + path), cv2.COLOR_BGR2GRAY) for path in file_paths]"
   ]
  },
  {
   "cell_type": "markdown",
   "metadata": {},
   "source": [
    "# Sift"
   ]
  },
  {
   "cell_type": "code",
   "execution_count": 8,
   "metadata": {},
   "outputs": [
    {
     "name": "stdout",
     "output_type": "stream",
     "text": [
      "(189, 128)\n"
     ]
    }
   ],
   "source": [
    "desc = []\n",
    "sift = cv2.xfeatures2d.SIFT_create()\n",
    "\n",
    "for im in imgs:\n",
    "    kp, d = sift.detectAndCompute(im, None)\n",
    "    if d is not None:\n",
    "        desc.append(d)\n",
    "d = np.asarray(d)\n",
    "print(d.shape)"
   ]
  },
  {
   "cell_type": "code",
   "execution_count": null,
   "metadata": {},
   "outputs": [],
   "source": []
  }
 ],
 "metadata": {
  "kernelspec": {
   "display_name": "Python 3",
   "language": "python",
   "name": "python3"
  },
  "language_info": {
   "codemirror_mode": {
    "name": "ipython",
    "version": 3
   },
   "file_extension": ".py",
   "mimetype": "text/x-python",
   "name": "python",
   "nbconvert_exporter": "python",
   "pygments_lexer": "ipython3",
   "version": "3.7.3"
  }
 },
 "nbformat": 4,
 "nbformat_minor": 2
}
